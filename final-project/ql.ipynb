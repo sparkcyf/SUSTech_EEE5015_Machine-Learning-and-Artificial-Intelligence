{
 "cells": [
  {
   "cell_type": "code",
   "execution_count": 1,
   "metadata": {},
   "outputs": [],
   "source": [
    "import matplotlib.pyplot as plt\n",
    "import networkx as nx\n",
    "import numpy as np\n",
    "import random\n",
    "import scipy\n",
    "from tqdm.notebook import trange, tqdm"
   ]
  },
  {
   "attachments": {},
   "cell_type": "markdown",
   "metadata": {},
   "source": [
    "## Gen graph"
   ]
  },
  {
   "cell_type": "code",
   "execution_count": 2,
   "metadata": {},
   "outputs": [
    {
     "name": "stdout",
     "output_type": "stream",
     "text": [
      "Adjacency Matrix:\n",
      "[[ 0.  0.  0.  0.  6.  0.  0.  0.  3.  0.]\n",
      " [ 0.  0.  4.  0. 10.  0.  0.  0.  1.  0.]\n",
      " [ 0.  0.  0.  0.  0.  0.  0.  0.  0.  1.]\n",
      " [ 0.  0.  0.  0.  0.  3.  9.  0.  0.  0.]\n",
      " [ 9.  0.  0.  0.  0.  0.  0.  0.  9.  0.]\n",
      " [ 0.  0.  0.  0.  0.  0.  0.  0.  0.  0.]\n",
      " [ 0.  6.  9.  0.  0.  0.  0.  0.  0.  0.]\n",
      " [ 0.  0.  0.  0.  0.  8.  0.  0.  1.  0.]\n",
      " [ 0.  0.  7.  0.  0.  0.  0.  0.  0.  6.]\n",
      " [ 0.  0.  0.  0.  3.  0.  0.  0.  0.  0.]]\n"
     ]
    }
   ],
   "source": [
    "def create_weighted_directed_graph_from_adj_matrix(adjacency_matrix):\n",
    "    # Create a directed graph\n",
    "    G = nx.DiGraph()\n",
    "\n",
    "    # Add nodes to the graph\n",
    "    num_nodes = adjacency_matrix.shape[0]\n",
    "    for i in range(num_nodes):\n",
    "        G.add_node(i)\n",
    "\n",
    "    # Add edges from adjacency matrix\n",
    "    for i in range(num_nodes):\n",
    "        for j in range(num_nodes):\n",
    "            weight = adjacency_matrix[i, j]\n",
    "            if weight > 0:  # Add an edge only if weight is greater than 0\n",
    "                G.add_edge(i, j, weight=weight)\n",
    "\n",
    "    return G\n",
    "\n",
    "# Test the function\n",
    "num_nodes = 10\n",
    "\n",
    "# Create a num_nodes by num_nodes matrix filled with zeros\n",
    "adjacency_matrix = np.zeros((num_nodes, num_nodes))\n",
    "\n",
    "# Fill in the adjacency matrix with random edge weights, No self-connections, only 10% of the edges are connected\n",
    "for i in range(num_nodes):\n",
    "    for j in range(num_nodes):\n",
    "        if i != j:  # No self-connections\n",
    "            if random.randint(1, 10) >= 8:\n",
    "                weight = random.randint(1, 10)\n",
    "                adjacency_matrix[i, j] = weight\n",
    "\n",
    "print(\"Adjacency Matrix:\")\n",
    "print(adjacency_matrix)\n",
    "\n"
   ]
  },
  {
   "cell_type": "code",
   "execution_count": 29,
   "metadata": {},
   "outputs": [],
   "source": [
    "#np.save('adjacency_matrix_10.npy', adjacency_matrix)"
   ]
  },
  {
   "cell_type": "code",
   "execution_count": 3,
   "metadata": {},
   "outputs": [
    {
     "data": {
      "text/plain": [
       "<matplotlib.colorbar.Colorbar at 0x7fbe7ce83090>"
      ]
     },
     "execution_count": 3,
     "metadata": {},
     "output_type": "execute_result"
    },
    {
     "data": {
      "image/png": "[encoded data removed]",
      "text/plain": [
       "<Figure size 640x480 with 2 Axes>"
      ]
     },
     "metadata": {},
     "output_type": "display_data"
    }
   ],
   "source": [
    "adjacency_matrix = np.load('adjacency_matrix_10.npy')\n",
    "G = create_weighted_directed_graph_from_adj_matrix(adjacency_matrix)\n",
    "plt.imshow(adjacency_matrix,cmap='Blues')\n",
    "plt.colorbar()"
   ]
  },
  {
   "cell_type": "code",
   "execution_count": 4,
   "metadata": {},
   "outputs": [
    {
     "name": "stdout",
     "output_type": "stream",
     "text": [
      "Neighbors of node 6:\n",
      "[1, 4, 8]\n"
     ]
    }
   ],
   "source": [
    "# print the neighbors of node 6\n",
    "print(\"Neighbors of node 6:\")\n",
    "print(list(G.neighbors(6)))"
   ]
  },
  {
   "attachments": {},
   "cell_type": "markdown",
   "metadata": {},
   "source": [
    "## floyd_warshall"
   ]
  },
  {
   "cell_type": "code",
   "execution_count": 5,
   "metadata": {},
   "outputs": [],
   "source": [
    "def cal_reward(path):\n",
    "    reward = 0\n",
    "    for i in range(len(path)-1):\n",
    "        reward += adjacency_matrix[path[i],path[i+1]]\n",
    "    return reward"
   ]
  },
  {
   "cell_type": "code",
   "execution_count": 6,
   "metadata": {},
   "outputs": [],
   "source": [
    "import networkx as nx\n",
    "import numpy as np\n",
    "\n",
    "def floyd_warshall(G):\n",
    "    # Get the number of nodes\n",
    "    n = len(G.nodes)\n",
    "\n",
    "    # Initialize the distance matrix\n",
    "    dist = np.full((n, n), np.inf)\n",
    "\n",
    "    # Initialize the predecessor matrix\n",
    "    pred = np.full((n, n), None)\n",
    "\n",
    "    # Set the diagonal of the distance matrix to 0\n",
    "    np.fill_diagonal(dist, 0)\n",
    "\n",
    "    # Populate the distance and predecessor matrices\n",
    "    for u, v, d in G.edges(data=True):\n",
    "        dist[u, v] = d['weight']\n",
    "        pred[u, v] = u\n",
    "\n",
    "    # Floyd-Warshall\n",
    "    for k in range(n):\n",
    "        for i in range(n):\n",
    "            for j in range(n):\n",
    "                if dist[i, k] + dist[k, j] < dist[i, j]:\n",
    "                    dist[i, j] = dist[i, k] + dist[k, j]\n",
    "                    pred[i, j] = pred[k, j]\n",
    "\n",
    "    return pred, dist\n",
    "\n",
    "def reconstruct_path(u, v, pred):\n",
    "    path = []\n",
    "    while v is not None:\n",
    "        path.append(v)\n",
    "        v = pred[u, v]\n",
    "    path.reverse()\n",
    "    return path\n",
    "\n",
    "# Assume G is predefined\n",
    "# G = nx.DiGraph()\n",
    "\n",
    "# Run the Floyd-Warshall algorithm\n",
    "predecessor, distance = floyd_warshall(G)\n"
   ]
  },
  {
   "cell_type": "code",
   "execution_count": 7,
   "metadata": {},
   "outputs": [
    {
     "name": "stdout",
     "output_type": "stream",
     "text": [
      "The shortest path from node 6 to node 4 is: [6, 4]\n",
      "8.0\n"
     ]
    }
   ],
   "source": [
    "# Find the shortest path from 6 to 4\n",
    "\n",
    "source, target = 6, 4\n",
    "\n",
    "path = reconstruct_path(source, target, predecessor)\n",
    "print(f'The shortest path from node {source} to node {target} is: {path}')\n",
    "print(cal_reward(path))\n"
   ]
  },
  {
   "attachments": {},
   "cell_type": "markdown",
   "metadata": {},
   "source": [
    "## Q learning"
   ]
  },
  {
   "cell_type": "code",
   "execution_count": 110,
   "metadata": {},
   "outputs": [],
   "source": [
    "class QLearningAgent:\n",
    "    def __init__(self, graph, num_nodes, alpha=0.5, gamma=0.75, epsilon=0.2):\n",
    "        self.graph = graph\n",
    "        self.num_nodes = num_nodes\n",
    "        self.alpha = alpha\n",
    "        self.gamma = gamma\n",
    "        self.epsilon = epsilon\n",
    "        self.q_values = np.zeros((num_nodes, num_nodes))  # Q-values initialization\n",
    "\n",
    "    def choose_action(self, state):\n",
    "        neighbors = list(self.graph.neighbors(state))\n",
    "        q_values = [self.q_values[state, action] for action in neighbors]\n",
    "        if np.random.uniform(0, 1) < self.epsilon:\n",
    "            # Choose a random action from the neighbors\n",
    "            action = np.random.choice(neighbors)\n",
    "        else:\n",
    "            # Choose the action with highest Q-value from the neighbors\n",
    "            action = neighbors[np.argmax(q_values)]\n",
    "        return action\n",
    "\n",
    "    def update(self, state, action, reward, next_state):\n",
    "        # Q-learning update\n",
    "        neighbors = list(self.graph.neighbors(next_state))\n",
    "        next_q_values = [self.q_values[next_state, next_action] for next_action in neighbors]\n",
    "        max_next_q_value = max(next_q_values) if neighbors else 0\n",
    "        # apply epsilon-greedy\n",
    "        if np.random.uniform(0, 1) < self.epsilon:\n",
    "            # Choose a random action from the neighbors\n",
    "            next_action = np.random.choice(neighbors)\n",
    "            max_next_q_value = self.q_values[next_state, next_action]\n",
    "        delta = reward + self.gamma * max_next_q_value - self.q_values[state, action]\n",
    "        self.q_values[state, action] += self.alpha * delta\n",
    "            \n",
    "    def learn(self, num_episodes, max_steps_per_episode):\n",
    "        for _ in trange(num_episodes):\n",
    "            state = np.random.randint(0, self.num_nodes)\n",
    "            for step in range(max_steps_per_episode):\n",
    "                action = self.choose_action(state)\n",
    "                reward = -self.graph.edges[state, action]['weight']\n",
    "                next_state = action\n",
    "                self.update(state, action, reward, next_state)\n",
    "                if state == next_state:\n",
    "                    break\n",
    "                state = next_state\n",
    "\n",
    "\n",
    "    def get_optimal_path(self, start_node, end_node):\n",
    "        path = [start_node]\n",
    "        visited = set([start_node])\n",
    "        state = start_node\n",
    "        while state != end_node:\n",
    "            neighbors = list(self.graph.neighbors(state))\n",
    "            # Filter out already visited nodes\n",
    "            neighbors = [node for node in neighbors if node not in visited]\n",
    "            if len(neighbors) == 0:\n",
    "                # return to previous node and select another action\n",
    "                visited.add(state)\n",
    "                path.pop()\n",
    "                state = path[-1]\n",
    "                neighbors = list(self.graph.neighbors(state))\n",
    "                neighbors = [node for node in neighbors if node not in visited]\n",
    "                continue\n",
    "            q_values = [self.q_values[state, action] for action in neighbors]\n",
    "            action = neighbors[np.argmax(q_values)]\n",
    "            visited.add(action)\n",
    "            state = action\n",
    "            path.append(state)\n",
    "        return path"
   ]
  },
  {
   "cell_type": "code",
   "execution_count": 111,
   "metadata": {},
   "outputs": [
    {
     "data": {
      "application/vnd.jupyter.widget-view+json": {
       "model_id": "2da447a9561643f1a290590f2a4179ce",
       "version_major": 2,
       "version_minor": 0
      },
      "text/plain": [
       "  0%|          | 0/50000 [00:00<?, ?it/s]"
      ]
     },
     "metadata": {},
     "output_type": "display_data"
    },
    {
     "data": {
      "application/vnd.jupyter.widget-view+json": {
       "model_id": "440fb6a0cc42475eb45f2777d7e9ea8e",
       "version_major": 2,
       "version_minor": 0
      },
      "text/plain": [
       "  0%|          | 0/10 [00:00<?, ?it/s]"
      ]
     },
     "metadata": {},
     "output_type": "display_data"
    },
    {
     "data": {
      "application/vnd.jupyter.widget-view+json": {
       "model_id": "67c73048273746e097c47a44ea2f12cd",
       "version_major": 2,
       "version_minor": 0
      },
      "text/plain": [
       "  0%|          | 0/10 [00:00<?, ?it/s]"
      ]
     },
     "metadata": {},
     "output_type": "display_data"
    },
    {
     "name": "stdout",
     "output_type": "stream",
     "text": [
      "(603.0, -965.0, -1568.0, 0.6154336734693877)\n"
     ]
    }
   ],
   "source": [
    "# Initialize the RLAgent\n",
    "agent = QLearningAgent(G, num_nodes)\n",
    "\n",
    "# Learn from the environment\n",
    "agent.learn(num_episodes=50000, max_steps_per_episode=10)\n",
    "\n",
    "print(compare_algorithms(G, len(G.nodes)))\n",
    "\n",
    "# path = agent.get_optimal_path(start_node=6, end_node=4)\n",
    "# print(\"Optimal path from node 6 to node 4: \", path)"
   ]
  },
  {
   "cell_type": "code",
   "execution_count": 96,
   "metadata": {},
   "outputs": [],
   "source": [
    "def compare_algorithms(graph, num_nodes):\n",
    "    # Floyd-Warshall\n",
    "    pred, _ = floyd_warshall(graph)\n",
    "    floyd_warshall_rewards = 0\n",
    "    for i in trange(num_nodes):\n",
    "        for j in range(num_nodes):\n",
    "            if i != j:\n",
    "                path = reconstruct_path(i, j, pred)\n",
    "                floyd_warshall_rewards += sum(-graph.edges[path[k], path[k+1]]['weight'] for k in range(len(path)-1))\n",
    "    \n",
    "    # Q-Learning\n",
    "    q_learning_rewards = 0\n",
    "    for i in trange(num_nodes):\n",
    "        for j in range(num_nodes):\n",
    "            if i != j:\n",
    "                path = agent.get_optimal_path(i, j)\n",
    "                q_learning_rewards += sum(-graph.edges[path[k], path[k+1]]['weight'] for k in range(len(path)-1))\n",
    "\n",
    "    return floyd_warshall_rewards - q_learning_rewards, floyd_warshall_rewards, q_learning_rewards, floyd_warshall_rewards / q_learning_rewards"
   ]
  },
  {
   "cell_type": "code",
   "execution_count": 25,
   "metadata": {},
   "outputs": [
    {
     "name": "stdout",
     "output_type": "stream",
     "text": [
      "Optimal path from node 6 to node 4:  [6, 8, 5, 4]\n",
      "Total reward:  -22.0\n"
     ]
    }
   ],
   "source": [
    "path = agent.get_optimal_path(start_node=6, end_node=4)\n",
    "print(\"Optimal path from node 6 to node 4: \", path)\n",
    "# calculate the total reward\n",
    "total_reward = 0\n",
    "for i in range(len(path) - 1):\n",
    "    total_reward += -G.edges[path[i], path[i + 1]]['weight']\n",
    "print(\"Total reward: \", total_reward)"
   ]
  }
 ],
 "metadata": {
  "kernelspec": {
   "display_name": "eee5015-py311-torchgpu",
   "language": "python",
   "name": "python3"
  },
  "language_info": {
   "codemirror_mode": {
    "name": "ipython",
    "version": 3
   },
   "file_extension": ".py",
   "mimetype": "text/x-python",
   "name": "python",
   "nbconvert_exporter": "python",
   "pygments_lexer": "ipython3",
   "version": "3.11.3"
  },
  "orig_nbformat": 4
 },
 "nbformat": 4,
 "nbformat_minor": 2
}
