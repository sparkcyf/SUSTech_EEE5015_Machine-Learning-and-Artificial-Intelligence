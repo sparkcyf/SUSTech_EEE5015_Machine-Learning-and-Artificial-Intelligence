{
 "cells": [
  {
   "cell_type": "code",
   "execution_count": 86,
   "metadata": {},
   "outputs": [],
   "source": [
    "import torch\n",
    "import numpy as np\n",
    "# tensorboard\n",
    "from torch.utils.tensorboard import SummaryWriter\n",
    "import math\n",
    "writer = SummaryWriter()"
   ]
  },
  {
   "cell_type": "code",
   "execution_count": 2,
   "metadata": {},
   "outputs": [],
   "source": [
    "# create a LeNet-5 by PyTorch using nn.Sequential\n",
    "class LeNet5Sequential(torch.nn.Module):\n",
    "    def __init__(self):\n",
    "        super(LeNet5Sequential, self).__init__()\n",
    "        self.model = torch.nn.Sequential(\n",
    "            torch.nn.Conv2d(1, 6, 5, padding=2),\n",
    "            torch.nn.ReLU(),\n",
    "            torch.nn.MaxPool2d(2, 2),\n",
    "            torch.nn.Conv2d(6, 16, 5),\n",
    "            torch.nn.ReLU(),\n",
    "            torch.nn.MaxPool2d(2, 2),\n",
    "            torch.nn.Flatten(),\n",
    "            torch.nn.Linear(16*5*5, 120),\n",
    "            torch.nn.ReLU(),\n",
    "            torch.nn.Linear(120, 84),\n",
    "            torch.nn.ReLU(),\n",
    "            torch.nn.Linear(84, 10),\n",
    "            torch.nn.Softmax(dim=1)\n",
    "        )\n",
    "        \n",
    "    def forward(self, x):\n",
    "        return self.model(x)"
   ]
  },
  {
   "cell_type": "code",
   "execution_count": 3,
   "metadata": {},
   "outputs": [
    {
     "name": "stdout",
     "output_type": "stream",
     "text": [
      "Downloading http://yann.lecun.com/exdb/mnist/train-images-idx3-ubyte.gz\n",
      "Downloading http://yann.lecun.com/exdb/mnist/train-images-idx3-ubyte.gz to ./data/MNIST/raw/train-images-idx3-ubyte.gz\n"
     ]
    },
    {
     "data": {
      "application/vnd.jupyter.widget-view+json": {
       "model_id": "afee1d7a2dd943bc83cc6cbf57186a0b",
       "version_major": 2,
       "version_minor": 0
      },
      "text/plain": [
       "  0%|          | 0/9912422 [00:00<?, ?it/s]"
      ]
     },
     "metadata": {},
     "output_type": "display_data"
    },
    {
     "name": "stdout",
     "output_type": "stream",
     "text": [
      "Extracting ./data/MNIST/raw/train-images-idx3-ubyte.gz to ./data/MNIST/raw\n",
      "\n",
      "Downloading http://yann.lecun.com/exdb/mnist/train-labels-idx1-ubyte.gz\n",
      "Downloading http://yann.lecun.com/exdb/mnist/train-labels-idx1-ubyte.gz to ./data/MNIST/raw/train-labels-idx1-ubyte.gz\n"
     ]
    },
    {
     "data": {
      "application/vnd.jupyter.widget-view+json": {
       "model_id": "1429cf070ed24861ba29996787a6f08a",
       "version_major": 2,
       "version_minor": 0
      },
      "text/plain": [
       "  0%|          | 0/28881 [00:00<?, ?it/s]"
      ]
     },
     "metadata": {},
     "output_type": "display_data"
    },
    {
     "name": "stdout",
     "output_type": "stream",
     "text": [
      "Extracting ./data/MNIST/raw/train-labels-idx1-ubyte.gz to ./data/MNIST/raw\n",
      "\n",
      "Downloading http://yann.lecun.com/exdb/mnist/t10k-images-idx3-ubyte.gz\n",
      "Downloading http://yann.lecun.com/exdb/mnist/t10k-images-idx3-ubyte.gz to ./data/MNIST/raw/t10k-images-idx3-ubyte.gz\n"
     ]
    },
    {
     "data": {
      "application/vnd.jupyter.widget-view+json": {
       "model_id": "5b2f014579ed487a828394f034839a1b",
       "version_major": 2,
       "version_minor": 0
      },
      "text/plain": [
       "  0%|          | 0/1648877 [00:00<?, ?it/s]"
      ]
     },
     "metadata": {},
     "output_type": "display_data"
    },
    {
     "name": "stdout",
     "output_type": "stream",
     "text": [
      "Extracting ./data/MNIST/raw/t10k-images-idx3-ubyte.gz to ./data/MNIST/raw\n",
      "\n",
      "Downloading http://yann.lecun.com/exdb/mnist/t10k-labels-idx1-ubyte.gz\n",
      "Downloading http://yann.lecun.com/exdb/mnist/t10k-labels-idx1-ubyte.gz to ./data/MNIST/raw/t10k-labels-idx1-ubyte.gz\n"
     ]
    },
    {
     "data": {
      "application/vnd.jupyter.widget-view+json": {
       "model_id": "8bf7623d9f204279959652df52e8123b",
       "version_major": 2,
       "version_minor": 0
      },
      "text/plain": [
       "  0%|          | 0/4542 [00:00<?, ?it/s]"
      ]
     },
     "metadata": {},
     "output_type": "display_data"
    },
    {
     "name": "stdout",
     "output_type": "stream",
     "text": [
      "Extracting ./data/MNIST/raw/t10k-labels-idx1-ubyte.gz to ./data/MNIST/raw\n",
      "\n"
     ]
    }
   ],
   "source": [
    "# load the MNIST dataset\n",
    "from torchvision import datasets, transforms\n",
    "transform = transforms.Compose([transforms.ToTensor(), transforms.Normalize((0.1307,), (0.3081,))])\n",
    "trainset = datasets.MNIST(root='./data', train=True, download=True, transform=transform)\n",
    "testset = datasets.MNIST(root='./data', train=False, download=True, transform=transform)\n"
   ]
  },
  {
   "cell_type": "code",
   "execution_count": 12,
   "metadata": {},
   "outputs": [
    {
     "data": {
      "image/png": "[encoded data removed]",
      "text/plain": [
       "<Figure size 1000x1000 with 10 Axes>"
      ]
     },
     "metadata": {},
     "output_type": "display_data"
    }
   ],
   "source": [
    "# plot some images from the dataset\n",
    "import matplotlib.pyplot as plt\n",
    "%matplotlib inline\n",
    "fig = plt.figure(figsize=(10, 10))\n",
    "for i in range(1, 11):\n",
    "    ax = fig.add_subplot(1, 10, i)\n",
    "    ax.imshow(trainset.data[i], cmap='gray')\n",
    "    ax.set_title(trainset.targets[i].item())\n",
    "    ax.axis('off')"
   ]
  },
  {
   "cell_type": "code",
   "execution_count": 42,
   "metadata": {},
   "outputs": [],
   "source": [
    "# train the LeNet-5 model\n",
    "def train(model, trainset, testset, batch_size=64, epochs=10, learning_rate=0.01, device='cpu'):\n",
    "    # define the loss function and the optimizer\n",
    "    criterion = torch.nn.CrossEntropyLoss()\n",
    "    optimizer = torch.optim.SGD(model.parameters(), lr=learning_rate)\n",
    "    \n",
    "    # create the data loader\n",
    "    trainloader = torch.utils.data.DataLoader(trainset, batch_size=batch_size, shuffle=True)\n",
    "    testloader = torch.utils.data.DataLoader(testset, batch_size=batch_size, shuffle=False)\n",
    "\n",
    "\n",
    "\n",
    "    \n",
    "    # train the model\n",
    "    for epoch in range(epochs):\n",
    "        model.train()\n",
    "        for i, (images, labels) in enumerate(trainloader):\n",
    "            if device == 'cuda':\n",
    "                # move the data to GPU\n",
    "                images = images.to('cuda')\n",
    "                labels = labels.to('cuda')\n",
    "\n",
    "\n",
    "            # forward\n",
    "            outputs = model(images)\n",
    "            loss = criterion(outputs, labels)\n",
    "            \n",
    "            # backward\n",
    "            optimizer.zero_grad()\n",
    "            loss.backward()\n",
    "            optimizer.step()\n",
    "\n",
    "            # log the train loss using tensorboard\n",
    "            writer.add_scalar('Loss/train', loss.item(), epoch * len(trainloader) + i)\n",
    "\n",
    "            \n",
    "            # print the loss\n",
    "            if (i+1) % 100 == 0:\n",
    "                print('Epoch [{}/{}], Step [{}/{}], Loss: {:.4f}'.format(epoch+1, epochs, i+1, len(trainloader), loss.item()))\n",
    "                \n",
    "        # test the model\n",
    "        model.eval()\n",
    "        with torch.no_grad():\n",
    "            correct = 0\n",
    "            total = 0\n",
    "            for images, labels in testloader:\n",
    "                if device == 'cuda':\n",
    "                    # move the data to GPU\n",
    "                    images = images.to('cuda')\n",
    "                    labels = labels.to('cuda')\n",
    "                outputs = model(images)\n",
    "                _, predicted = torch.max(outputs.data, 1)\n",
    "                total += labels.size(0)\n",
    "                correct += (predicted == labels).sum().item()\n",
    "            # log the train loss using tensorboard\n",
    "            writer.add_scalar('Accuracy/test', 100 * correct / total, epoch)\n",
    "            print('Test Accuracy of the model on the 10000 test images: {} %'.format(100 * correct / total))\n",
    "            \n",
    "    # save the model\n",
    "    torch.save(model.state_dict(), 'model.ckpt')"
   ]
  },
  {
   "cell_type": "code",
   "execution_count": 72,
   "metadata": {},
   "outputs": [
    {
     "name": "stdout",
     "output_type": "stream",
     "text": [
      "Epoch [1/100], Step [100/235], Loss: 2.2998\n",
      "Epoch [1/100], Step [200/235], Loss: 2.2916\n",
      "Test Accuracy of the model on the 10000 test images: 26.9 %\n",
      "Epoch [2/100], Step [100/235], Loss: 1.8303\n",
      "Epoch [2/100], Step [200/235], Loss: 1.7876\n",
      "Test Accuracy of the model on the 10000 test images: 67.94 %\n",
      "Epoch [3/100], Step [100/235], Loss: 1.6553\n",
      "Epoch [3/100], Step [200/235], Loss: 1.6203\n",
      "Test Accuracy of the model on the 10000 test images: 89.06 %\n",
      "Epoch [4/100], Step [100/235], Loss: 1.5417\n",
      "Epoch [4/100], Step [200/235], Loss: 1.5072\n",
      "Test Accuracy of the model on the 10000 test images: 93.36 %\n",
      "Epoch [5/100], Step [100/235], Loss: 1.5269\n",
      "Epoch [5/100], Step [200/235], Loss: 1.4963\n",
      "Test Accuracy of the model on the 10000 test images: 95.54 %\n",
      "Epoch [6/100], Step [100/235], Loss: 1.4872\n",
      "Epoch [6/100], Step [200/235], Loss: 1.4993\n",
      "Test Accuracy of the model on the 10000 test images: 95.66 %\n",
      "Epoch [7/100], Step [100/235], Loss: 1.5184\n",
      "Epoch [7/100], Step [200/235], Loss: 1.4936\n",
      "Test Accuracy of the model on the 10000 test images: 94.27 %\n",
      "Epoch [8/100], Step [100/235], Loss: 1.5106\n",
      "Epoch [8/100], Step [200/235], Loss: 1.4993\n",
      "Test Accuracy of the model on the 10000 test images: 97.0 %\n",
      "Epoch [9/100], Step [100/235], Loss: 1.4945\n",
      "Epoch [9/100], Step [200/235], Loss: 1.4981\n",
      "Test Accuracy of the model on the 10000 test images: 97.46 %\n",
      "Epoch [10/100], Step [100/235], Loss: 1.4919\n",
      "Epoch [10/100], Step [200/235], Loss: 1.4955\n",
      "Test Accuracy of the model on the 10000 test images: 97.55 %\n",
      "Epoch [11/100], Step [100/235], Loss: 1.4950\n",
      "Epoch [11/100], Step [200/235], Loss: 1.4736\n",
      "Test Accuracy of the model on the 10000 test images: 97.43 %\n",
      "Epoch [12/100], Step [100/235], Loss: 1.4912\n",
      "Epoch [12/100], Step [200/235], Loss: 1.4717\n",
      "Test Accuracy of the model on the 10000 test images: 97.49 %\n",
      "Epoch [13/100], Step [100/235], Loss: 1.4892\n",
      "Epoch [13/100], Step [200/235], Loss: 1.4888\n",
      "Test Accuracy of the model on the 10000 test images: 97.96 %\n",
      "Epoch [14/100], Step [100/235], Loss: 1.4829\n",
      "Epoch [14/100], Step [200/235], Loss: 1.4862\n",
      "Test Accuracy of the model on the 10000 test images: 97.86 %\n",
      "Epoch [15/100], Step [100/235], Loss: 1.4834\n",
      "Epoch [15/100], Step [200/235], Loss: 1.4831\n",
      "Test Accuracy of the model on the 10000 test images: 97.73 %\n",
      "Epoch [16/100], Step [100/235], Loss: 1.4816\n",
      "Epoch [16/100], Step [200/235], Loss: 1.4850\n",
      "Test Accuracy of the model on the 10000 test images: 97.45 %\n",
      "Epoch [17/100], Step [100/235], Loss: 1.4833\n",
      "Epoch [17/100], Step [200/235], Loss: 1.4977\n",
      "Test Accuracy of the model on the 10000 test images: 98.21 %\n",
      "Epoch [18/100], Step [100/235], Loss: 1.4860\n",
      "Epoch [18/100], Step [200/235], Loss: 1.4899\n",
      "Test Accuracy of the model on the 10000 test images: 98.31 %\n",
      "Epoch [19/100], Step [100/235], Loss: 1.4867\n",
      "Epoch [19/100], Step [200/235], Loss: 1.4745\n",
      "Test Accuracy of the model on the 10000 test images: 98.3 %\n",
      "Epoch [20/100], Step [100/235], Loss: 1.4777\n",
      "Epoch [20/100], Step [200/235], Loss: 1.4762\n",
      "Test Accuracy of the model on the 10000 test images: 98.17 %\n",
      "Epoch [21/100], Step [100/235], Loss: 1.4763\n",
      "Epoch [21/100], Step [200/235], Loss: 1.4763\n",
      "Test Accuracy of the model on the 10000 test images: 98.09 %\n",
      "Epoch [22/100], Step [100/235], Loss: 1.4861\n",
      "Epoch [22/100], Step [200/235], Loss: 1.4877\n",
      "Test Accuracy of the model on the 10000 test images: 97.73 %\n",
      "Epoch [23/100], Step [100/235], Loss: 1.4781\n",
      "Epoch [23/100], Step [200/235], Loss: 1.4731\n",
      "Test Accuracy of the model on the 10000 test images: 98.32 %\n",
      "Epoch [24/100], Step [100/235], Loss: 1.4723\n",
      "Epoch [24/100], Step [200/235], Loss: 1.4712\n",
      "Test Accuracy of the model on the 10000 test images: 98.45 %\n",
      "Epoch [25/100], Step [100/235], Loss: 1.4739\n",
      "Epoch [25/100], Step [200/235], Loss: 1.4719\n",
      "Test Accuracy of the model on the 10000 test images: 98.52 %\n",
      "Epoch [26/100], Step [100/235], Loss: 1.4656\n",
      "Epoch [26/100], Step [200/235], Loss: 1.4763\n",
      "Test Accuracy of the model on the 10000 test images: 98.64 %\n",
      "Epoch [27/100], Step [100/235], Loss: 1.4740\n",
      "Epoch [27/100], Step [200/235], Loss: 1.4771\n",
      "Test Accuracy of the model on the 10000 test images: 98.4 %\n",
      "Epoch [28/100], Step [100/235], Loss: 1.4702\n",
      "Epoch [28/100], Step [200/235], Loss: 1.4700\n",
      "Test Accuracy of the model on the 10000 test images: 98.45 %\n",
      "Epoch [29/100], Step [100/235], Loss: 1.4725\n",
      "Epoch [29/100], Step [200/235], Loss: 1.4744\n",
      "Test Accuracy of the model on the 10000 test images: 98.68 %\n",
      "Epoch [30/100], Step [100/235], Loss: 1.4775\n",
      "Epoch [30/100], Step [200/235], Loss: 1.4864\n",
      "Test Accuracy of the model on the 10000 test images: 98.71 %\n",
      "Epoch [31/100], Step [100/235], Loss: 1.4695\n",
      "Epoch [31/100], Step [200/235], Loss: 1.4781\n",
      "Test Accuracy of the model on the 10000 test images: 98.69 %\n",
      "Epoch [32/100], Step [100/235], Loss: 1.4735\n",
      "Epoch [32/100], Step [200/235], Loss: 1.4762\n",
      "Test Accuracy of the model on the 10000 test images: 98.53 %\n",
      "Epoch [33/100], Step [100/235], Loss: 1.4711\n",
      "Epoch [33/100], Step [200/235], Loss: 1.4698\n",
      "Test Accuracy of the model on the 10000 test images: 98.26 %\n",
      "Epoch [34/100], Step [100/235], Loss: 1.4729\n",
      "Epoch [34/100], Step [200/235], Loss: 1.4687\n",
      "Test Accuracy of the model on the 10000 test images: 98.65 %\n",
      "Epoch [35/100], Step [100/235], Loss: 1.4708\n",
      "Epoch [35/100], Step [200/235], Loss: 1.4664\n",
      "Test Accuracy of the model on the 10000 test images: 98.42 %\n",
      "Epoch [36/100], Step [100/235], Loss: 1.4738\n",
      "Epoch [36/100], Step [200/235], Loss: 1.4651\n",
      "Test Accuracy of the model on the 10000 test images: 98.64 %\n",
      "Epoch [37/100], Step [100/235], Loss: 1.4621\n",
      "Epoch [37/100], Step [200/235], Loss: 1.4658\n",
      "Test Accuracy of the model on the 10000 test images: 98.61 %\n",
      "Epoch [38/100], Step [100/235], Loss: 1.4714\n",
      "Epoch [38/100], Step [200/235], Loss: 1.4618\n",
      "Test Accuracy of the model on the 10000 test images: 97.63 %\n",
      "Epoch [39/100], Step [100/235], Loss: 1.4709\n",
      "Epoch [39/100], Step [200/235], Loss: 1.4655\n",
      "Test Accuracy of the model on the 10000 test images: 98.66 %\n",
      "Epoch [40/100], Step [100/235], Loss: 1.4699\n",
      "Epoch [40/100], Step [200/235], Loss: 1.4685\n",
      "Test Accuracy of the model on the 10000 test images: 98.53 %\n",
      "Epoch [41/100], Step [100/235], Loss: 1.4660\n",
      "Epoch [41/100], Step [200/235], Loss: 1.4729\n",
      "Test Accuracy of the model on the 10000 test images: 98.58 %\n",
      "Epoch [42/100], Step [100/235], Loss: 1.4679\n",
      "Epoch [42/100], Step [200/235], Loss: 1.4655\n",
      "Test Accuracy of the model on the 10000 test images: 98.68 %\n",
      "Epoch [43/100], Step [100/235], Loss: 1.4612\n",
      "Epoch [43/100], Step [200/235], Loss: 1.4679\n",
      "Test Accuracy of the model on the 10000 test images: 98.73 %\n",
      "Epoch [44/100], Step [100/235], Loss: 1.4653\n",
      "Epoch [44/100], Step [200/235], Loss: 1.4694\n",
      "Test Accuracy of the model on the 10000 test images: 98.16 %\n",
      "Epoch [45/100], Step [100/235], Loss: 1.4754\n",
      "Epoch [45/100], Step [200/235], Loss: 1.4658\n",
      "Test Accuracy of the model on the 10000 test images: 98.83 %\n",
      "Epoch [46/100], Step [100/235], Loss: 1.4649\n",
      "Epoch [46/100], Step [200/235], Loss: 1.4626\n",
      "Test Accuracy of the model on the 10000 test images: 98.8 %\n",
      "Epoch [47/100], Step [100/235], Loss: 1.4698\n",
      "Epoch [47/100], Step [200/235], Loss: 1.4703\n",
      "Test Accuracy of the model on the 10000 test images: 98.78 %\n",
      "Epoch [48/100], Step [100/235], Loss: 1.4654\n",
      "Epoch [48/100], Step [200/235], Loss: 1.4734\n",
      "Test Accuracy of the model on the 10000 test images: 98.23 %\n",
      "Epoch [49/100], Step [100/235], Loss: 1.4727\n",
      "Epoch [49/100], Step [200/235], Loss: 1.4652\n",
      "Test Accuracy of the model on the 10000 test images: 98.86 %\n",
      "Epoch [50/100], Step [100/235], Loss: 1.4751\n",
      "Epoch [50/100], Step [200/235], Loss: 1.4613\n",
      "Test Accuracy of the model on the 10000 test images: 98.9 %\n",
      "Epoch [51/100], Step [100/235], Loss: 1.4614\n",
      "Epoch [51/100], Step [200/235], Loss: 1.4692\n",
      "Test Accuracy of the model on the 10000 test images: 98.74 %\n",
      "Epoch [52/100], Step [100/235], Loss: 1.4683\n",
      "Epoch [52/100], Step [200/235], Loss: 1.4654\n",
      "Test Accuracy of the model on the 10000 test images: 98.82 %\n",
      "Epoch [53/100], Step [100/235], Loss: 1.4751\n",
      "Epoch [53/100], Step [200/235], Loss: 1.4662\n",
      "Test Accuracy of the model on the 10000 test images: 98.84 %\n",
      "Epoch [54/100], Step [100/235], Loss: 1.4658\n",
      "Epoch [54/100], Step [200/235], Loss: 1.4733\n",
      "Test Accuracy of the model on the 10000 test images: 98.83 %\n",
      "Epoch [55/100], Step [100/235], Loss: 1.4614\n",
      "Epoch [55/100], Step [200/235], Loss: 1.4649\n",
      "Test Accuracy of the model on the 10000 test images: 98.79 %\n",
      "Epoch [56/100], Step [100/235], Loss: 1.4613\n",
      "Epoch [56/100], Step [200/235], Loss: 1.4729\n",
      "Test Accuracy of the model on the 10000 test images: 98.64 %\n",
      "Epoch [57/100], Step [100/235], Loss: 1.4652\n",
      "Epoch [57/100], Step [200/235], Loss: 1.4669\n",
      "Test Accuracy of the model on the 10000 test images: 98.83 %\n",
      "Epoch [58/100], Step [100/235], Loss: 1.4769\n",
      "Epoch [58/100], Step [200/235], Loss: 1.4628\n",
      "Test Accuracy of the model on the 10000 test images: 98.82 %\n",
      "Epoch [59/100], Step [100/235], Loss: 1.4654\n",
      "Epoch [59/100], Step [200/235], Loss: 1.4615\n",
      "Test Accuracy of the model on the 10000 test images: 98.92 %\n",
      "Epoch [60/100], Step [100/235], Loss: 1.4692\n",
      "Epoch [60/100], Step [200/235], Loss: 1.4650\n",
      "Test Accuracy of the model on the 10000 test images: 98.81 %\n",
      "Epoch [61/100], Step [100/235], Loss: 1.4651\n",
      "Epoch [61/100], Step [200/235], Loss: 1.4651\n",
      "Test Accuracy of the model on the 10000 test images: 98.84 %\n",
      "Epoch [62/100], Step [100/235], Loss: 1.4691\n",
      "Epoch [62/100], Step [200/235], Loss: 1.4613\n",
      "Test Accuracy of the model on the 10000 test images: 98.61 %\n",
      "Epoch [63/100], Step [100/235], Loss: 1.4661\n",
      "Epoch [63/100], Step [200/235], Loss: 1.4617\n",
      "Test Accuracy of the model on the 10000 test images: 98.83 %\n",
      "Epoch [64/100], Step [100/235], Loss: 1.4612\n",
      "Epoch [64/100], Step [200/235], Loss: 1.4693\n",
      "Test Accuracy of the model on the 10000 test images: 98.71 %\n",
      "Epoch [65/100], Step [100/235], Loss: 1.4614\n",
      "Epoch [65/100], Step [200/235], Loss: 1.4652\n",
      "Test Accuracy of the model on the 10000 test images: 98.79 %\n",
      "Epoch [66/100], Step [100/235], Loss: 1.4690\n",
      "Epoch [66/100], Step [200/235], Loss: 1.4612\n",
      "Test Accuracy of the model on the 10000 test images: 98.83 %\n",
      "Epoch [67/100], Step [100/235], Loss: 1.4616\n",
      "Epoch [67/100], Step [200/235], Loss: 1.4755\n",
      "Test Accuracy of the model on the 10000 test images: 98.73 %\n",
      "Epoch [68/100], Step [100/235], Loss: 1.4680\n",
      "Epoch [68/100], Step [200/235], Loss: 1.4613\n",
      "Test Accuracy of the model on the 10000 test images: 98.89 %\n",
      "Epoch [69/100], Step [100/235], Loss: 1.4692\n",
      "Epoch [69/100], Step [200/235], Loss: 1.4613\n",
      "Test Accuracy of the model on the 10000 test images: 98.88 %\n",
      "Epoch [70/100], Step [100/235], Loss: 1.4651\n",
      "Epoch [70/100], Step [200/235], Loss: 1.4690\n",
      "Test Accuracy of the model on the 10000 test images: 98.88 %\n",
      "Epoch [71/100], Step [100/235], Loss: 1.4651\n",
      "Epoch [71/100], Step [200/235], Loss: 1.4651\n",
      "Test Accuracy of the model on the 10000 test images: 98.89 %\n",
      "Epoch [72/100], Step [100/235], Loss: 1.4690\n",
      "Epoch [72/100], Step [200/235], Loss: 1.4656\n",
      "Test Accuracy of the model on the 10000 test images: 98.86 %\n",
      "Epoch [73/100], Step [100/235], Loss: 1.4613\n",
      "Epoch [73/100], Step [200/235], Loss: 1.4612\n",
      "Test Accuracy of the model on the 10000 test images: 98.87 %\n",
      "Epoch [74/100], Step [100/235], Loss: 1.4612\n",
      "Epoch [74/100], Step [200/235], Loss: 1.4613\n",
      "Test Accuracy of the model on the 10000 test images: 98.86 %\n",
      "Epoch [75/100], Step [100/235], Loss: 1.4650\n",
      "Epoch [75/100], Step [200/235], Loss: 1.4651\n",
      "Test Accuracy of the model on the 10000 test images: 98.86 %\n",
      "Epoch [76/100], Step [100/235], Loss: 1.4689\n",
      "Epoch [76/100], Step [200/235], Loss: 1.4612\n",
      "Test Accuracy of the model on the 10000 test images: 98.92 %\n",
      "Epoch [77/100], Step [100/235], Loss: 1.4651\n",
      "Epoch [77/100], Step [200/235], Loss: 1.4651\n",
      "Test Accuracy of the model on the 10000 test images: 98.87 %\n",
      "Epoch [78/100], Step [100/235], Loss: 1.4691\n",
      "Epoch [78/100], Step [200/235], Loss: 1.4612\n",
      "Test Accuracy of the model on the 10000 test images: 98.89 %\n",
      "Epoch [79/100], Step [100/235], Loss: 1.4688\n",
      "Epoch [79/100], Step [200/235], Loss: 1.4612\n",
      "Test Accuracy of the model on the 10000 test images: 98.92 %\n",
      "Epoch [80/100], Step [100/235], Loss: 1.4612\n",
      "Epoch [80/100], Step [200/235], Loss: 1.4612\n",
      "Test Accuracy of the model on the 10000 test images: 98.85 %\n",
      "Epoch [81/100], Step [100/235], Loss: 1.4612\n",
      "Epoch [81/100], Step [200/235], Loss: 1.4612\n",
      "Test Accuracy of the model on the 10000 test images: 98.84 %\n",
      "Epoch [82/100], Step [100/235], Loss: 1.4728\n",
      "Epoch [82/100], Step [200/235], Loss: 1.4654\n",
      "Test Accuracy of the model on the 10000 test images: 98.86 %\n",
      "Epoch [83/100], Step [100/235], Loss: 1.4651\n",
      "Epoch [83/100], Step [200/235], Loss: 1.4612\n",
      "Test Accuracy of the model on the 10000 test images: 98.88 %\n",
      "Epoch [84/100], Step [100/235], Loss: 1.4651\n",
      "Epoch [84/100], Step [200/235], Loss: 1.4651\n",
      "Test Accuracy of the model on the 10000 test images: 98.87 %\n",
      "Epoch [85/100], Step [100/235], Loss: 1.4652\n",
      "Epoch [85/100], Step [200/235], Loss: 1.4612\n",
      "Test Accuracy of the model on the 10000 test images: 98.91 %\n",
      "Epoch [86/100], Step [100/235], Loss: 1.4729\n",
      "Epoch [86/100], Step [200/235], Loss: 1.4691\n",
      "Test Accuracy of the model on the 10000 test images: 98.89 %\n",
      "Epoch [87/100], Step [100/235], Loss: 1.4729\n",
      "Epoch [87/100], Step [200/235], Loss: 1.4612\n",
      "Test Accuracy of the model on the 10000 test images: 98.91 %\n",
      "Epoch [88/100], Step [100/235], Loss: 1.4690\n",
      "Epoch [88/100], Step [200/235], Loss: 1.4650\n",
      "Test Accuracy of the model on the 10000 test images: 98.92 %\n",
      "Epoch [89/100], Step [100/235], Loss: 1.4651\n",
      "Epoch [89/100], Step [200/235], Loss: 1.4612\n",
      "Test Accuracy of the model on the 10000 test images: 98.93 %\n",
      "Epoch [90/100], Step [100/235], Loss: 1.4652\n",
      "Epoch [90/100], Step [200/235], Loss: 1.4614\n",
      "Test Accuracy of the model on the 10000 test images: 98.95 %\n",
      "Epoch [91/100], Step [100/235], Loss: 1.4688\n",
      "Epoch [91/100], Step [200/235], Loss: 1.4613\n",
      "Test Accuracy of the model on the 10000 test images: 98.96 %\n",
      "Epoch [92/100], Step [100/235], Loss: 1.4612\n",
      "Epoch [92/100], Step [200/235], Loss: 1.4612\n",
      "Test Accuracy of the model on the 10000 test images: 98.94 %\n",
      "Epoch [93/100], Step [100/235], Loss: 1.4612\n",
      "Epoch [93/100], Step [200/235], Loss: 1.4651\n",
      "Test Accuracy of the model on the 10000 test images: 98.95 %\n",
      "Epoch [94/100], Step [100/235], Loss: 1.4612\n",
      "Epoch [94/100], Step [200/235], Loss: 1.4612\n",
      "Test Accuracy of the model on the 10000 test images: 98.91 %\n",
      "Epoch [95/100], Step [100/235], Loss: 1.4612\n",
      "Epoch [95/100], Step [200/235], Loss: 1.4652\n",
      "Test Accuracy of the model on the 10000 test images: 98.91 %\n",
      "Epoch [96/100], Step [100/235], Loss: 1.4651\n",
      "Epoch [96/100], Step [200/235], Loss: 1.4652\n",
      "Test Accuracy of the model on the 10000 test images: 98.89 %\n",
      "Epoch [97/100], Step [100/235], Loss: 1.4691\n",
      "Epoch [97/100], Step [200/235], Loss: 1.4612\n",
      "Test Accuracy of the model on the 10000 test images: 98.95 %\n",
      "Epoch [98/100], Step [100/235], Loss: 1.4727\n",
      "Epoch [98/100], Step [200/235], Loss: 1.4651\n",
      "Test Accuracy of the model on the 10000 test images: 98.87 %\n",
      "Epoch [99/100], Step [100/235], Loss: 1.4651\n",
      "Epoch [99/100], Step [200/235], Loss: 1.4612\n",
      "Test Accuracy of the model on the 10000 test images: 98.9 %\n",
      "Epoch [100/100], Step [100/235], Loss: 1.4729\n",
      "Epoch [100/100], Step [200/235], Loss: 1.4612\n",
      "Test Accuracy of the model on the 10000 test images: 98.92 %\n"
     ]
    }
   ],
   "source": [
    "# run the training using gpu\n",
    "# device = torch.device('cuda' if torch.cuda.is_available() else 'cpu')\n",
    "device = torch.device('cuda')\n",
    "model = LeNet5Sequential().to(device)\n",
    "train(model, trainset, testset, batch_size=256, epochs=100, learning_rate=0.1, device='cuda')\n"
   ]
  },
  {
   "cell_type": "code",
   "execution_count": 73,
   "metadata": {},
   "outputs": [],
   "source": [
    "# save model to file\n",
    "torch.save(model.state_dict(), \"model-98.92.pt\")"
   ]
  },
  {
   "cell_type": "code",
   "execution_count": 74,
   "metadata": {},
   "outputs": [
    {
     "data": {
      "text/plain": [
       "<All keys matched successfully>"
      ]
     },
     "execution_count": 74,
     "metadata": {},
     "output_type": "execute_result"
    }
   ],
   "source": [
    "# load model from file\n",
    "model = LeNet5Sequential()\n",
    "model.load_state_dict(torch.load(\"model-98.92.pt\"))"
   ]
  },
  {
   "cell_type": "code",
   "execution_count": 75,
   "metadata": {},
   "outputs": [],
   "source": [
    "# load npy file\n",
    "handwrite_test_imgs = np.load('spark_handwrite_test.npy')"
   ]
  },
  {
   "cell_type": "code",
   "execution_count": 89,
   "metadata": {},
   "outputs": [
    {
     "data": {
      "image/png": "[encoded data removed]",
      "text/plain": [
       "<Figure size 640x480 with 80 Axes>"
      ]
     },
     "metadata": {},
     "output_type": "display_data"
    }
   ],
   "source": [
    "# use the model to predict the handwrite images and plot the prediction results\n",
    "# put model in evaluation mode and to cpu\n",
    "model.to('cpu')\n",
    "model.eval()\n",
    "with torch.no_grad():\n",
    "    for i in range(handwrite_test_imgs.shape[0]):\n",
    "        img = handwrite_test_imgs[i]\n",
    "        img = torch.from_numpy(img).unsqueeze(0).unsqueeze(0).float()\n",
    "        output = model(img)\n",
    "        _, pred = torch.max(output, 1)\n",
    "        plt.subplot(10, 8, i+1)\n",
    "        # vertical space between subplots\n",
    "        # plt.subplots_adjust(hspace=0)\n",
    "        plt.imshow(handwrite_test_imgs[i], cmap='gray')\n",
    "        # put the title to the bottom right corner inside the image, use white color\n",
    "        # shift down the title a little bit\n",
    "        \n",
    "        if (int(pred.item()) != math.floor(i/8)):\n",
    "            plt.title(pred.item(), loc='right', color='red', y=-0.2)\n",
    "        else:\n",
    "            plt.title(pred.item(), loc='right', color='green', y=-0.2)\n",
    "        plt.axis('off')"
   ]
  }
 ],
 "metadata": {
  "kernelspec": {
   "display_name": "eee5015-py39-torchgpu",
   "language": "python",
   "name": "python3"
  },
  "language_info": {
   "codemirror_mode": {
    "name": "ipython",
    "version": 3
   },
   "file_extension": ".py",
   "mimetype": "text/x-python",
   "name": "python",
   "nbconvert_exporter": "python",
   "pygments_lexer": "ipython3",
   "version": "3.9.16"
  },
  "orig_nbformat": 4
 },
 "nbformat": 4,
 "nbformat_minor": 2
}
