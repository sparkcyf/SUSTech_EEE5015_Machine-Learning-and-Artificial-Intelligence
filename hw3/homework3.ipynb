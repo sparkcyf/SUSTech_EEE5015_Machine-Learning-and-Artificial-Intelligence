{
 "cells": [
  {
   "cell_type": "code",
   "execution_count": 1,
   "metadata": {},
   "outputs": [],
   "source": [
    "import torch"
   ]
  },
  {
   "cell_type": "code",
   "execution_count": 2,
   "metadata": {},
   "outputs": [],
   "source": [
    "A = torch.arange(20).reshape(5, 4)"
   ]
  },
  {
   "cell_type": "code",
   "execution_count": 3,
   "metadata": {},
   "outputs": [
    {
     "data": {
      "text/plain": [
       "tensor([[ 0,  1,  2,  3],\n",
       "        [ 4,  5,  6,  7],\n",
       "        [ 8,  9, 10, 11],\n",
       "        [12, 13, 14, 15],\n",
       "        [16, 17, 18, 19]])"
      ]
     },
     "execution_count": 3,
     "metadata": {},
     "output_type": "execute_result"
    }
   ],
   "source": [
    "A"
   ]
  },
  {
   "cell_type": "code",
   "execution_count": 6,
   "metadata": {},
   "outputs": [
    {
     "ename": "RuntimeError",
     "evalue": "The size of tensor a (4) must match the size of tensor b (5) at non-singleton dimension 1",
     "output_type": "error",
     "traceback": [
      "\u001b[0;31m---------------------------------------------------------------------------\u001b[0m",
      "\u001b[0;31mRuntimeError\u001b[0m                              Traceback (most recent call last)",
      "Cell \u001b[0;32mIn[6], line 1\u001b[0m\n\u001b[0;32m----> 1\u001b[0m A \u001b[39m/\u001b[39;49m A\u001b[39m.\u001b[39;49msum(axis\u001b[39m=\u001b[39;49m\u001b[39m1\u001b[39;49m)\n",
      "\u001b[0;31mRuntimeError\u001b[0m: The size of tensor a (4) must match the size of tensor b (5) at non-singleton dimension 1"
     ]
    }
   ],
   "source": [
    "A / A.sum(axis=1)"
   ]
  },
  {
   "cell_type": "code",
   "execution_count": null,
   "metadata": {},
   "outputs": [],
   "source": [
    "# Find the gradient of the function $f(x)=3{x_1}^2+5e^{x_2}$\n",
    "# with respect to $x_1$ and $x_2$ at the point $(x_1,x_2)=(1,1)$.\n",
    "f = lambda x: 3*x[0]**2 + 5*torch.exp(x[1])"
   ]
  },
  {
   "cell_type": "code",
   "execution_count": 16,
   "metadata": {},
   "outputs": [
    {
     "name": "stdout",
     "output_type": "stream",
     "text": [
      "gradient of a\n",
      "tensor(1086.0658)\n",
      "gradient of b\n",
      "tensor(1318.0658)\n"
     ]
    }
   ],
   "source": [
    "# write out the chain rule for the case where u = f(x, y, z) and x = x(a, b), y = y(a, b), and z = z(a, b), Redesign an example of finding the gradient of the control flow. Run and analyze the result.\n",
    "\n",
    "# construct f, x, y, z, a, b\n",
    "u = lambda a, b: f([x(a, b), y(a, b), z(a, b)])\n",
    "f = lambda x: 3*x[0]**2 + 5*torch.exp(x[1])+ x[2]\n",
    "x = lambda a, b: a**2 + b**2\n",
    "y = lambda a, b: a + b\n",
    "z = lambda a, b: a**4 + b**4\n",
    "a = torch.tensor(2.0, requires_grad=True)\n",
    "b = torch.tensor(3.0, requires_grad=True)\n",
    "# find df/da\n",
    "u(a, b).backward()\n",
    "print(\"gradient of a\")\n",
    "print(a.grad)\n",
    "print(\"gradient of b\")\n",
    "print(b.grad)"
   ]
  }
 ],
 "metadata": {
  "kernelspec": {
   "display_name": "eee5015-py39-torchgpu",
   "language": "python",
   "name": "python3"
  },
  "language_info": {
   "codemirror_mode": {
    "name": "ipython",
    "version": 3
   },
   "file_extension": ".py",
   "mimetype": "text/x-python",
   "name": "python",
   "nbconvert_exporter": "python",
   "pygments_lexer": "ipython3",
   "version": "3.9.16"
  },
  "orig_nbformat": 4
 },
 "nbformat": 4,
 "nbformat_minor": 2
}
