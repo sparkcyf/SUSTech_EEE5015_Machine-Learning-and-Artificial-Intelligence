{
 "cells": [
  {
   "attachments": {},
   "cell_type": "markdown",
   "metadata": {},
   "source": [
    "# Homework 4\n",
    "12232509 FAN Qingyuan"
   ]
  },
  {
   "attachments": {},
   "cell_type": "markdown",
   "metadata": {},
   "source": [
    "Task: Write a program of a perceptron to learn an OR function."
   ]
  },
  {
   "cell_type": "code",
   "execution_count": 1,
   "metadata": {},
   "outputs": [],
   "source": [
    "# import torch\n",
    "import torch\n",
    "from tqdm import trange"
   ]
  },
  {
   "attachments": {},
   "cell_type": "markdown",
   "metadata": {},
   "source": [
    "To do this, we need to create an perceptron with one input layer, one hidden layer and one output layer. The input layer has two inputs, the hidden layer has two neurons and the output layer has one neuron. The activation function is implemented by sigmoid function."
   ]
  },
  {
   "cell_type": "code",
   "execution_count": 2,
   "metadata": {},
   "outputs": [],
   "source": [
    "# create the neural network implement the perceptron of the OR function\n",
    "\n",
    "class Perceptron_OR(torch.nn.Module):\n",
    "    def __init__(self, input_size, output_size):\n",
    "        super(Perceptron_OR, self).__init__()\n",
    "        self.linear = torch.nn.Linear(input_size, output_size)\n",
    "\n",
    "    def forward(self, x):\n",
    "        x = self.linear(x)\n",
    "        x = torch.sigmoid(x)\n",
    "        return x"
   ]
  },
  {
   "attachments": {},
   "cell_type": "markdown",
   "metadata": {},
   "source": [
    "After the network is created, we need to train the network with the training data and evaluate the prediction using Binary Cross Entropy Loss."
   ]
  },
  {
   "cell_type": "code",
   "execution_count": 3,
   "metadata": {},
   "outputs": [
    {
     "name": "stderr",
     "output_type": "stream",
     "text": [
      "100%|██████████| 10000/10000 [00:01<00:00, 5780.48it/s]\n"
     ]
    }
   ],
   "source": [
    "# generate the train data\n",
    "x_train = torch.tensor([[0, 0], [0, 1], [1, 0], [1, 1]], dtype=torch.float32)\n",
    "y_train = torch.tensor([[0], [1], [1], [1]], dtype=torch.float32)\n",
    "\n",
    "# train\n",
    "model = Perceptron_OR(2, 1)\n",
    "criterion = torch.nn.BCELoss()\n",
    "optimizer = torch.optim.Adam(model.parameters(), lr=0.1)\n",
    "\n",
    "for epoch in trange(10000):\n",
    "    optimizer.zero_grad()\n",
    "    prediction = model(x_train)\n",
    "    cost = criterion(prediction, y_train)\n",
    "    cost.backward()\n",
    "    optimizer.step()"
   ]
  },
  {
   "attachments": {},
   "cell_type": "markdown",
   "metadata": {},
   "source": [
    "Finally, we can use the trained network to predict the output of the test data."
   ]
  },
  {
   "cell_type": "code",
   "execution_count": 4,
   "metadata": {},
   "outputs": [
    {
     "name": "stdout",
     "output_type": "stream",
     "text": [
      "Test data: \n",
      " tensor([[0., 1.],\n",
      "        [1., 0.],\n",
      "        [1., 1.],\n",
      "        [0., 0.]])\n",
      "Test predictions: \n",
      " tensor([[9.9999e-01],\n",
      "        [9.9999e-01],\n",
      "        [1.0000e+00],\n",
      "        [1.6378e-05]])\n"
     ]
    }
   ],
   "source": [
    "# verify the neural network\n",
    "test_data = torch.tensor([[0, 1], [1, 0], [1, 1], [0, 0]], dtype=torch.float32)\n",
    "with torch.no_grad():\n",
    "    test_predictions = model(test_data)\n",
    "    test_predictions = test_predictions.float()\n",
    "    print(\"Test data: \\n\", test_data)\n",
    "    print(\"Test predictions: \\n\", test_predictions)\n"
   ]
  },
  {
   "attachments": {},
   "cell_type": "markdown",
   "metadata": {},
   "source": [
    "We found the perceptron above can learn the OR function with an accaptable accuracy."
   ]
  }
 ],
 "metadata": {
  "kernelspec": {
   "display_name": "eee5015-py39-torchgpu",
   "language": "python",
   "name": "python3"
  },
  "language_info": {
   "codemirror_mode": {
    "name": "ipython",
    "version": 3
   },
   "file_extension": ".py",
   "mimetype": "text/x-python",
   "name": "python",
   "nbconvert_exporter": "python",
   "pygments_lexer": "ipython3",
   "version": "3.9.16"
  },
  "orig_nbformat": 4
 },
 "nbformat": 4,
 "nbformat_minor": 2
}
